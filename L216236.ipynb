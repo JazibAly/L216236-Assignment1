{
  "nbformat": 4,
  "nbformat_minor": 0,
  "metadata": {
    "colab": {
      "provenance": [],
      "collapsed_sections": []
    },
    "kernelspec": {
      "name": "python3",
      "display_name": "Python 3"
    },
    "language_info": {
      "name": "python"
    }
  },
  "cells": [
    {
      "cell_type": "markdown",
      "source": [
        "# Introduction To Data Science – Assignment 1\n",
        "\n",
        "---\n",
        "\n",
        "### Sections A – B – C – D\n",
        "\n",
        "---\n",
        "\n",
        "***Instructions***\n",
        "\n",
        "Due Date: Sunday 18th September 2022 – 11:59PM\n",
        "\n",
        "Name the file in the format Lyyxxxx and save it as .ipynb (e.g. L201234.ipynb)\n",
        "\n",
        "Submission will be taken on **GitHub and Google Classroom (submit the .ipynb file)** - Instructions to upload onto GitHub are provided in the link https://docs.google.com/document/d/1BR1ULOGeGWJVU6Rr6Qty1FR-quVRZyRvQGII6nEs-wo/edit?usp=sharing\n",
        "\n",
        "After uploading and submitting the .ipynb file onto Google Classroom, also private comment the link to the GitHub repository.\n",
        "\n",
        "All source files needed to complete this assignment can be found on the following Google Drive link https://drive.google.com/drive/folders/1VrkaVcExGWqilSeh50WZe4gUBjmUiJ9b?usp=sharing\n",
        "\n",
        "TA Emails\n",
        "\n",
        "Section A, C - Muhammad Maarij l192347@lhr.nu.edu.pk\n",
        "\n",
        "Section B, D - Hira Ijaz l192377@lhr.nu.edu.pk\n",
        "\n",
        "Happy Coding 😊\n",
        "\n",
        "---"
      ],
      "metadata": {
        "id": "TWWLTwYZorzC"
      }
    },
    {
      "cell_type": "markdown",
      "source": [
        "---\n",
        "## Question 1\n",
        "---"
      ],
      "metadata": {
        "id": "arB_0r9H0jjC"
      }
    },
    {
      "cell_type": "markdown",
      "source": [
        "Define a procedure called \"check_input\" that takes an input as a square list of lists (2D Matrix of N x N) and returns a boolen \"true\" if the input is valid or \"false\" otherwise, according to the following criteria.\n",
        "\n",
        "1. Each coloumn must contain numbers from between 1 and N, with no duplicates.\n",
        "2. Each row must contain numbers from between 1 and N, with no duplicates."
      ],
      "metadata": {
        "id": "qHPTNDy30n99"
      }
    },
    {
      "cell_type": "code",
      "source": [
        "# define procedure here\n",
        "def check_input(test):\n",
        "  c1 = 0\n",
        "  c2 = 0\n",
        "  x = len(test[0])\n",
        "  for i in range (0,x):\n",
        "    if(test[i][0] == test[i][j] or type(test[i][j]) == str):\n",
        "      c1 = c1 + 1\n",
        "  for j in range(0,3):\n",
        "    for i in range(1,3):\n",
        "      if(test[0][j] == test[i][j] or type(test[i][j]) == str):\n",
        "        c2 = c2 + 1\n",
        "  if(c1 == 0 and c2 == 0):\n",
        "    return True\n",
        "  else:\n",
        "    return False"
      ],
      "metadata": {
        "id": "S2_Zic322Lt7"
      },
      "execution_count": 58,
      "outputs": []
    },
    {
      "cell_type": "code",
      "source": [
        "# run this block to test code after defining the procedure\n",
        "\n",
        "test1 = [[1, 2, 3],\n",
        "        [2, 3, 1],\n",
        "        [3, 1, 2]]\n",
        "\n",
        "test2 = [[1, 2, 3, 4],\n",
        "        [2, 3, 1, 3],\n",
        "        [3, 1, 2, 3],\n",
        "        [4, 4, 4, 4]]\n",
        "\n",
        "test3 = [['a', 'b', 'c'],\n",
        "        ['b', 'c', 'a'],\n",
        "        ['c', 'a', 'b']]\n",
        "\n",
        "print(check_input(test1)) # must return true\n",
        "print(check_input(test2)) # must return false\n",
        "print(check_input(test3)) # must return false"
      ],
      "metadata": {
        "id": "wdL9MWgq2ZbP"
      },
      "execution_count": null,
      "outputs": []
    },
    {
      "cell_type": "markdown",
      "source": [
        "---\n",
        "## Question 2\n",
        "---"
      ],
      "metadata": {
        "id": "4RVTlnhWqOUC"
      }
    },
    {
      "cell_type": "markdown",
      "source": [
        "**Part A** - Import the file \"StudentMarkSheet.csv\" as a Pandas DataFrame and print the information for the dataframe"
      ],
      "metadata": {
        "id": "Uyc7JPtNt0pR"
      }
    },
    {
      "cell_type": "code",
      "execution_count": 6,
      "metadata": {
        "id": "wYrt7e6Xop2P",
        "colab": {
          "base_uri": "https://localhost:8080/",
          "height": 424
        },
        "outputId": "c596994f-9e12-4e2c-f182-ef64c20e63d1"
      },
      "outputs": [
        {
          "output_type": "execute_result",
          "data": {
            "text/plain": [
              "        Student name  Exam name   Exam date  Marks\n",
              "0       James Walker    Biology  05/06/2016   31.0\n",
              "1      Velma Clemons    Biology  05/06/2016   43.0\n",
              "2     Kibo Underwood    Biology  05/06/2016   81.0\n",
              "3        Louis Mcgee    Biology  05/06/2016   11.0\n",
              "4       Phyllis Paul    Biology  05/06/2016   18.0\n",
              "..               ...        ...         ...    ...\n",
              "195       Yen Bowers  Sociology  21/06/2016   52.0\n",
              "196        Ryan Pena  Sociology  21/06/2016   16.0\n",
              "197  Portia Hamilton  Sociology  21/06/2016   34.0\n",
              "198  Sydnee Chambers  Sociology  21/06/2016   76.0\n",
              "199      Stacy Small  Sociology  21/06/2016   96.0\n",
              "\n",
              "[200 rows x 4 columns]"
            ],
            "text/html": [
              "\n",
              "  <div id=\"df-209bc225-82d0-47a7-869c-cb4c4696b2c0\">\n",
              "    <div class=\"colab-df-container\">\n",
              "      <div>\n",
              "<style scoped>\n",
              "    .dataframe tbody tr th:only-of-type {\n",
              "        vertical-align: middle;\n",
              "    }\n",
              "\n",
              "    .dataframe tbody tr th {\n",
              "        vertical-align: top;\n",
              "    }\n",
              "\n",
              "    .dataframe thead th {\n",
              "        text-align: right;\n",
              "    }\n",
              "</style>\n",
              "<table border=\"1\" class=\"dataframe\">\n",
              "  <thead>\n",
              "    <tr style=\"text-align: right;\">\n",
              "      <th></th>\n",
              "      <th>Student name</th>\n",
              "      <th>Exam name</th>\n",
              "      <th>Exam date</th>\n",
              "      <th>Marks</th>\n",
              "    </tr>\n",
              "  </thead>\n",
              "  <tbody>\n",
              "    <tr>\n",
              "      <th>0</th>\n",
              "      <td>James Walker</td>\n",
              "      <td>Biology</td>\n",
              "      <td>05/06/2016</td>\n",
              "      <td>31.0</td>\n",
              "    </tr>\n",
              "    <tr>\n",
              "      <th>1</th>\n",
              "      <td>Velma Clemons</td>\n",
              "      <td>Biology</td>\n",
              "      <td>05/06/2016</td>\n",
              "      <td>43.0</td>\n",
              "    </tr>\n",
              "    <tr>\n",
              "      <th>2</th>\n",
              "      <td>Kibo Underwood</td>\n",
              "      <td>Biology</td>\n",
              "      <td>05/06/2016</td>\n",
              "      <td>81.0</td>\n",
              "    </tr>\n",
              "    <tr>\n",
              "      <th>3</th>\n",
              "      <td>Louis Mcgee</td>\n",
              "      <td>Biology</td>\n",
              "      <td>05/06/2016</td>\n",
              "      <td>11.0</td>\n",
              "    </tr>\n",
              "    <tr>\n",
              "      <th>4</th>\n",
              "      <td>Phyllis Paul</td>\n",
              "      <td>Biology</td>\n",
              "      <td>05/06/2016</td>\n",
              "      <td>18.0</td>\n",
              "    </tr>\n",
              "    <tr>\n",
              "      <th>...</th>\n",
              "      <td>...</td>\n",
              "      <td>...</td>\n",
              "      <td>...</td>\n",
              "      <td>...</td>\n",
              "    </tr>\n",
              "    <tr>\n",
              "      <th>195</th>\n",
              "      <td>Yen Bowers</td>\n",
              "      <td>Sociology</td>\n",
              "      <td>21/06/2016</td>\n",
              "      <td>52.0</td>\n",
              "    </tr>\n",
              "    <tr>\n",
              "      <th>196</th>\n",
              "      <td>Ryan Pena</td>\n",
              "      <td>Sociology</td>\n",
              "      <td>21/06/2016</td>\n",
              "      <td>16.0</td>\n",
              "    </tr>\n",
              "    <tr>\n",
              "      <th>197</th>\n",
              "      <td>Portia Hamilton</td>\n",
              "      <td>Sociology</td>\n",
              "      <td>21/06/2016</td>\n",
              "      <td>34.0</td>\n",
              "    </tr>\n",
              "    <tr>\n",
              "      <th>198</th>\n",
              "      <td>Sydnee Chambers</td>\n",
              "      <td>Sociology</td>\n",
              "      <td>21/06/2016</td>\n",
              "      <td>76.0</td>\n",
              "    </tr>\n",
              "    <tr>\n",
              "      <th>199</th>\n",
              "      <td>Stacy Small</td>\n",
              "      <td>Sociology</td>\n",
              "      <td>21/06/2016</td>\n",
              "      <td>96.0</td>\n",
              "    </tr>\n",
              "  </tbody>\n",
              "</table>\n",
              "<p>200 rows × 4 columns</p>\n",
              "</div>\n",
              "      <button class=\"colab-df-convert\" onclick=\"convertToInteractive('df-209bc225-82d0-47a7-869c-cb4c4696b2c0')\"\n",
              "              title=\"Convert this dataframe to an interactive table.\"\n",
              "              style=\"display:none;\">\n",
              "        \n",
              "  <svg xmlns=\"http://www.w3.org/2000/svg\" height=\"24px\"viewBox=\"0 0 24 24\"\n",
              "       width=\"24px\">\n",
              "    <path d=\"M0 0h24v24H0V0z\" fill=\"none\"/>\n",
              "    <path d=\"M18.56 5.44l.94 2.06.94-2.06 2.06-.94-2.06-.94-.94-2.06-.94 2.06-2.06.94zm-11 1L8.5 8.5l.94-2.06 2.06-.94-2.06-.94L8.5 2.5l-.94 2.06-2.06.94zm10 10l.94 2.06.94-2.06 2.06-.94-2.06-.94-.94-2.06-.94 2.06-2.06.94z\"/><path d=\"M17.41 7.96l-1.37-1.37c-.4-.4-.92-.59-1.43-.59-.52 0-1.04.2-1.43.59L10.3 9.45l-7.72 7.72c-.78.78-.78 2.05 0 2.83L4 21.41c.39.39.9.59 1.41.59.51 0 1.02-.2 1.41-.59l7.78-7.78 2.81-2.81c.8-.78.8-2.07 0-2.86zM5.41 20L4 18.59l7.72-7.72 1.47 1.35L5.41 20z\"/>\n",
              "  </svg>\n",
              "      </button>\n",
              "      \n",
              "  <style>\n",
              "    .colab-df-container {\n",
              "      display:flex;\n",
              "      flex-wrap:wrap;\n",
              "      gap: 12px;\n",
              "    }\n",
              "\n",
              "    .colab-df-convert {\n",
              "      background-color: #E8F0FE;\n",
              "      border: none;\n",
              "      border-radius: 50%;\n",
              "      cursor: pointer;\n",
              "      display: none;\n",
              "      fill: #1967D2;\n",
              "      height: 32px;\n",
              "      padding: 0 0 0 0;\n",
              "      width: 32px;\n",
              "    }\n",
              "\n",
              "    .colab-df-convert:hover {\n",
              "      background-color: #E2EBFA;\n",
              "      box-shadow: 0px 1px 2px rgba(60, 64, 67, 0.3), 0px 1px 3px 1px rgba(60, 64, 67, 0.15);\n",
              "      fill: #174EA6;\n",
              "    }\n",
              "\n",
              "    [theme=dark] .colab-df-convert {\n",
              "      background-color: #3B4455;\n",
              "      fill: #D2E3FC;\n",
              "    }\n",
              "\n",
              "    [theme=dark] .colab-df-convert:hover {\n",
              "      background-color: #434B5C;\n",
              "      box-shadow: 0px 1px 3px 1px rgba(0, 0, 0, 0.15);\n",
              "      filter: drop-shadow(0px 1px 2px rgba(0, 0, 0, 0.3));\n",
              "      fill: #FFFFFF;\n",
              "    }\n",
              "  </style>\n",
              "\n",
              "      <script>\n",
              "        const buttonEl =\n",
              "          document.querySelector('#df-209bc225-82d0-47a7-869c-cb4c4696b2c0 button.colab-df-convert');\n",
              "        buttonEl.style.display =\n",
              "          google.colab.kernel.accessAllowed ? 'block' : 'none';\n",
              "\n",
              "        async function convertToInteractive(key) {\n",
              "          const element = document.querySelector('#df-209bc225-82d0-47a7-869c-cb4c4696b2c0');\n",
              "          const dataTable =\n",
              "            await google.colab.kernel.invokeFunction('convertToInteractive',\n",
              "                                                     [key], {});\n",
              "          if (!dataTable) return;\n",
              "\n",
              "          const docLinkHtml = 'Like what you see? Visit the ' +\n",
              "            '<a target=\"_blank\" href=https://colab.research.google.com/notebooks/data_table.ipynb>data table notebook</a>'\n",
              "            + ' to learn more about interactive tables.';\n",
              "          element.innerHTML = '';\n",
              "          dataTable['output_type'] = 'display_data';\n",
              "          await google.colab.output.renderOutput(dataTable, element);\n",
              "          const docLink = document.createElement('div');\n",
              "          docLink.innerHTML = docLinkHtml;\n",
              "          element.appendChild(docLink);\n",
              "        }\n",
              "      </script>\n",
              "    </div>\n",
              "  </div>\n",
              "  "
            ]
          },
          "metadata": {},
          "execution_count": 6
        }
      ],
      "source": [
        "import pandas as pd\n",
        "import pandas as df\n",
        "df = pd.read_csv('StudentMarkSheet.csv')\n",
        "df"
      ]
    },
    {
      "cell_type": "markdown",
      "source": [
        "**Part B** - Remove any rows that do not contain all the data. Also print the following information.\n",
        "\n",
        "1. Number of rows before\n",
        "2. Number of rows containing null data\n",
        "3. Number of rows after"
      ],
      "metadata": {
        "id": "jIaMvgcft_i0"
      }
    },
    {
      "cell_type": "code",
      "source": [
        "rowCountBefore = len(df)\n",
        "count = 0\n",
        "for rows,index in df.iterrows():\n",
        "  if \"Student name\" or \"Exam name\" or \"Exam date\" or \"Marks\" == None:\n",
        "    count = count + 1\n",
        "  df = df.dropna()\n",
        "rowCountAfter = rowCountBefore - count\n",
        "print(\"Number of Rows before: \", rowCountBefore)\n",
        "print(\"Number of rows containing null data: \", count)\n",
        "print(\"Number of rows after: \", rowCountAfter)"
      ],
      "metadata": {
        "id": "_ov_SWdxuZUm",
        "colab": {
          "base_uri": "https://localhost:8080/"
        },
        "outputId": "693908d9-5765-4878-d011-10d97e6b73e2"
      },
      "execution_count": 37,
      "outputs": [
        {
          "output_type": "stream",
          "name": "stdout",
          "text": [
            "Number of Rows before:  196\n",
            "Number of rows containing null data:  196\n",
            "Number of rows after:  0\n"
          ]
        }
      ]
    },
    {
      "cell_type": "markdown",
      "source": [
        "**Part C** - Print all the marks along with the subject for the student named \"James Walker\""
      ],
      "metadata": {
        "id": "2kd9zAX6wkXM"
      }
    },
    {
      "cell_type": "code",
      "source": [
        "print(df[df[\"Student name\"] == 'James Walker'])"
      ],
      "metadata": {
        "id": "N0HWJN-PwuSo",
        "colab": {
          "base_uri": "https://localhost:8080/"
        },
        "outputId": "4d6feb32-c254-440d-e493-4a7f63153545"
      },
      "execution_count": 38,
      "outputs": [
        {
          "output_type": "stream",
          "name": "stdout",
          "text": [
            "     Student name    Exam name   Exam date  Marks\n",
            "0    James Walker      Biology  05/06/2016   31.0\n",
            "42   James Walker    Chemistry  15/06/2016   61.0\n",
            "71   James Walker  Mathematics  29/07/2016   23.0\n",
            "150  James Walker      Physics  10/06/2016  100.0\n",
            "180  James Walker    Sociology  21/06/2016   73.0\n"
          ]
        }
      ]
    },
    {
      "cell_type": "markdown",
      "source": [
        "---\n",
        "## Question 3\n",
        "---"
      ],
      "metadata": {
        "id": "ts8Y1EXmwzhf"
      }
    },
    {
      "cell_type": "markdown",
      "source": [
        "**Part A** - From the DataFrame created in Question 2, calculate the average marks for each subject"
      ],
      "metadata": {
        "id": "PJENm_hpw3GQ"
      }
    },
    {
      "cell_type": "code",
      "source": [
        "marks = df[df[\"Exam name\"] == 'Biology']\n",
        "marks = marks[\"Marks\"]\n",
        "sum = marks.sum()\n",
        "total = len(marks)\n",
        "avg1 = sum/total\n",
        "print(\"Average Marks in Biology: \" , avg1)\n",
        "\n",
        "marks = df[df[\"Exam name\"] == 'Chemistry']\n",
        "marks = marks[\"Marks\"]\n",
        "sum = marks.sum()\n",
        "total = len(marks)\n",
        "avg2 = sum/total\n",
        "print(\"Average Marks in Chemistry: \" , avg2)\n",
        "\n",
        "marks = df[df[\"Exam name\"] == 'Mathematics']\n",
        "marks = marks[\"Marks\"]\n",
        "sum = marks.sum()\n",
        "total = len(marks)\n",
        "avg3 = sum/total\n",
        "print(\"Average Marks in Mathematics: \" , avg3)\n",
        "\n",
        "\n",
        "marks = df[df[\"Exam name\"] == 'Philosophy']\n",
        "marks = marks[\"Marks\"]\n",
        "sum = marks.sum()\n",
        "total = len(marks)\n",
        "avg4 = sum/total\n",
        "print(\"Average Marks in Philosophy: \" , avg4)\n",
        "\n",
        "marks = df[df[\"Exam name\"] == 'Physics']\n",
        "marks = marks[\"Marks\"]\n",
        "sum = marks.sum()\n",
        "total = len(marks)\n",
        "avg5 = sum/total\n",
        "print(\"Average Marks in Physics: \" , avg5)\n",
        "\n",
        "marks = df[df[\"Exam name\"] == 'Sociology']\n",
        "marks = marks[\"Marks\"]\n",
        "sum = marks.sum()\n",
        "total = len(marks)\n",
        "avg6 = sum/total\n",
        "print(\"Average Marks in Sociology: \" , avg6)"
      ],
      "metadata": {
        "id": "AxhCtST5xS3L",
        "colab": {
          "base_uri": "https://localhost:8080/"
        },
        "outputId": "6735c61e-032c-419f-cd4a-8d43cc54614c"
      },
      "execution_count": 48,
      "outputs": [
        {
          "output_type": "stream",
          "name": "stdout",
          "text": [
            "Average Marks in Biology:  47.89473684210526\n",
            "Average Marks in Chemistry:  50.57692307692308\n",
            "Average Marks in Mathematics:  48.97222222222222\n",
            "Average Marks in Philosophy:  47.270270270270274\n",
            "Average Marks in Physics:  51.76190476190476\n",
            "Average Marks in Sociology:  56.026315789473685\n"
          ]
        }
      ]
    },
    {
      "cell_type": "markdown",
      "source": [
        "**Part B** - Using the averages you just calculated, plot a Bar Graph showing the average marks of each subject"
      ],
      "metadata": {
        "id": "NDlaA7hHxUBc"
      }
    },
    {
      "cell_type": "code",
      "source": [
        "import numpy as np\n",
        "import matplotlib.pyplot as plt\n",
        "subjects = [\"Biology\", \"Chemistry\", \"Maths\", \"Philosophy\", \"Physics\", \"Sociology\"]\n",
        "Averages = [avg1,avg2,avg3,avg4,avg5,avg6]\n",
        "plt.ylabel(\"Average Marks\")\n",
        "plt.xlabel(\"Subjects\")\n",
        "plt.title(\"Average Marks of Subjects\")\n",
        "plt.bar(subjects, Averages)\n",
        "plt.show()"
      ],
      "metadata": {
        "id": "LWoPFZBOyyNn",
        "colab": {
          "base_uri": "https://localhost:8080/",
          "height": 295
        },
        "outputId": "2052e3b7-b876-4af8-859c-204d5bb98954"
      },
      "execution_count": 54,
      "outputs": [
        {
          "output_type": "display_data",
          "data": {
            "text/plain": [
              "<Figure size 432x288 with 1 Axes>"
            ],
            "image/png": "[encoded data removed]"
          },
          "metadata": {
            "needs_background": "light"
          }
        }
      ]
    },
    {
      "cell_type": "markdown",
      "source": [
        "---\n",
        "## Question 4\n",
        "---"
      ],
      "metadata": {
        "id": "dWlOSOIs6d1R"
      }
    },
    {
      "cell_type": "markdown",
      "source": [
        "**Part A** - Import the file \"CatData.csv\" and preprocess it to remove any null values"
      ],
      "metadata": {
        "id": "b4s-pN4v6kgb"
      }
    },
    {
      "cell_type": "code",
      "source": [
        "import pandas as pd\n",
        "df = pd.read_csv(\"CatData.csv\")\n",
        "print(df.dropna())"
      ],
      "metadata": {
        "id": "mvZ3xrBV9b1s"
      },
      "execution_count": null,
      "outputs": []
    },
    {
      "cell_type": "markdown",
      "source": [
        "**Part B** - Identify the independant and dependant variables (comment answer below)"
      ],
      "metadata": {
        "id": "bWxuB3ep9SWA"
      }
    },
    {
      "cell_type": "code",
      "source": [
        "# dependant variable: mass\n",
        "# independant variable: tail length"
      ],
      "metadata": {
        "id": "TS9tvuRt9cWr"
      },
      "execution_count": null,
      "outputs": []
    },
    {
      "cell_type": "markdown",
      "source": [
        "**Part C** - Create a linear regression model using sklearn and fit it to the data you just imported\n"
      ],
      "metadata": {
        "id": "xPHVA3cX7uk9"
      }
    },
    {
      "cell_type": "code",
      "source": [
        "import numpy as np\n",
        "import matplotlib.pyplot as plt\n",
        "from sklearn import linear_model\n",
        "a = int (len(df) * 0.8)\n",
        "train = df[:a]\n",
        "test = df[a:]\n",
        "regression = linear_model.LinearRegression()\n",
        "train1 = np.array([[\"Tail Length(cm)\"]])\n",
        "train2 = np.array([[\"Mass(k)\"]])\n",
        "regression.fit(train1, train2)\n",
        "m = regression.coef_\n",
        "c = regression.intercept_"
      ],
      "metadata": {
        "id": "WYVNRotH9cyo"
      },
      "execution_count": null,
      "outputs": []
    },
    {
      "cell_type": "markdown",
      "source": [
        "**Part D** - Print the values for slope and y-intercept"
      ],
      "metadata": {
        "id": "0QMipKhb830G"
      }
    },
    {
      "cell_type": "code",
      "source": [
        "print(m)\n",
        "print(c)"
      ],
      "metadata": {
        "id": "R7cvi3KB9dJh",
        "colab": {
          "base_uri": "https://localhost:8080/",
          "height": 183
        },
        "outputId": "868480b0-94f8-40d4-8d21-09cb9812ef68"
      },
      "execution_count": 57,
      "outputs": [
        {
          "output_type": "error",
          "ename": "NameError",
          "evalue": "ignored",
          "traceback": [
            "\u001b[0;31m---------------------------------------------------------------------------\u001b[0m",
            "\u001b[0;31mNameError\u001b[0m                                 Traceback (most recent call last)",
            "\u001b[0;32m<ipython-input-57-0a0325606d4f>\u001b[0m in \u001b[0;36m<module>\u001b[0;34m\u001b[0m\n\u001b[0;32m----> 1\u001b[0;31m \u001b[0mprint\u001b[0m\u001b[0;34m(\u001b[0m\u001b[0mm\u001b[0m\u001b[0;34m)\u001b[0m\u001b[0;34m\u001b[0m\u001b[0;34m\u001b[0m\u001b[0m\n\u001b[0m\u001b[1;32m      2\u001b[0m \u001b[0mprint\u001b[0m\u001b[0;34m(\u001b[0m\u001b[0mc\u001b[0m\u001b[0;34m)\u001b[0m\u001b[0;34m\u001b[0m\u001b[0;34m\u001b[0m\u001b[0m\n",
            "\u001b[0;31mNameError\u001b[0m: name 'm' is not defined"
          ]
        }
      ]
    },
    {
      "cell_type": "markdown",
      "source": [
        "**Part E** - Plot a scatter graph of the original data and a regression line on the same figure (example with dummy data shown below)\n",
        "\n",
        "![](https://drive.google.com/uc?export=view&id=1o_NAsNjfx7zAh9m-UjvWB3rta6uraKdY)"
      ],
      "metadata": {
        "id": "IIq-BQYp_i33"
      }
    },
    {
      "cell_type": "code",
      "source": [
        "plt.xlabel(\"Tail Length\")\n",
        "plt.ylabel(\"Mass\")\n",
        "plt.scatter(train[\"Tail Length (cm)\"],train[\"Mass (kg)\"])\n",
        "plt.plot(train1,train1*coef[0]+intercept)\n",
        "plt.show()"
      ],
      "metadata": {
        "id": "jhz8gTYt_lCn"
      },
      "execution_count": null,
      "outputs": []
    }
  ]
}